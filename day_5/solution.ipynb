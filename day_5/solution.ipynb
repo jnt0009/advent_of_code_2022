{
 "cells": [
  {
   "cell_type": "code",
   "execution_count": 8,
   "metadata": {},
   "outputs": [],
   "source": [
    "import re"
   ]
  },
  {
   "cell_type": "code",
   "execution_count": 1,
   "metadata": {},
   "outputs": [],
   "source": []
  },
  {
   "cell_type": "code",
   "execution_count": 127,
   "metadata": {},
   "outputs": [],
   "source": [
    "dock = {\n",
    "    \"1\": [\"D\", \"B\", \"J\", \"V\"],\n",
    "    \"2\": [\"P\", \"V\", \"B\", \"W\", \"R\", \"D\", \"F\"],\n",
    "    \"3\": [\"R\", \"G\", \"F\", \"L\", \"D\", \"C\", \"W\", \"Q\"],\n",
    "    \"4\": [\"W\", \"J\", \"P\", \"M\", \"L\", \"N\", \"D\", \"B\"],\n",
    "    \"5\": [\"H\", \"N\", \"B\", \"P\", \"C\", \"S\", \"Q\"],\n",
    "    \"6\": [\"R\", \"D\", \"B\", \"S\", \"N\", \"G\"],\n",
    "    \"7\": [\"Z\", \"B\", \"P\", \"M\", \"Q\", \"F\", \"S\", \"H\"],\n",
    "    \"8\": [\"W\", \"L\", \"F\"],\n",
    "    \"9\": [\"S\", \"V\", \"F\", \"M\", \"R\"]\n",
    "}\n"
   ]
  },
  {
   "cell_type": "code",
   "execution_count": 123,
   "metadata": {},
   "outputs": [],
   "source": [
    "def crane(tot, ship_from, ship_to):\n",
    "    res_ary = []\n",
    "    for i in range(tot):\n",
    "        res = dock[ship_from].pop()\n",
    "        res_ary.append(res)\n",
    "        # print(res)\n",
    "    dock[ship_to].extend(res_ary)\n",
    "    return res_ary\n"
   ]
  },
  {
   "cell_type": "code",
   "execution_count": 124,
   "metadata": {},
   "outputs": [
    {
     "data": {
      "text/plain": [
       "{'1': ['F', 'N', 'B', 'G', 'B'],\n",
       " '2': ['B', 'S', 'G', 'S'],\n",
       " '3': ['V', 'M', 'B', 'D', 'Z', 'W', 'R', 'D'],\n",
       " '4': ['R', 'W', 'M'],\n",
       " '5': ['F', 'P', 'V', 'W', 'Q'],\n",
       " '6': ['H',\n",
       "  'J',\n",
       "  'L',\n",
       "  'R',\n",
       "  'D',\n",
       "  'P',\n",
       "  'F',\n",
       "  'S',\n",
       "  'P',\n",
       "  'J',\n",
       "  'V',\n",
       "  'D',\n",
       "  'N',\n",
       "  'D',\n",
       "  'C',\n",
       "  'F',\n",
       "  'F'],\n",
       " '7': ['N', 'L'],\n",
       " '8': ['S'],\n",
       " '9': ['B', 'C', 'R', 'H', 'W', 'L', 'B', 'Q', 'M', 'Q', 'P']}"
      ]
     },
     "execution_count": 124,
     "metadata": {},
     "output_type": "execute_result"
    }
   ],
   "source": [
    "for command in lines:\n",
    "    command = re.sub(\"\\n\", \"\", command)\n",
    "    tot = int(command.split(\" \")[1])\n",
    "    ship_from = command.split(\" \")[3]\n",
    "    ship_to = command.split(\" \")[5]\n",
    "    crane(tot, ship_from, ship_to)\n",
    "dock"
   ]
  },
  {
   "cell_type": "code",
   "execution_count": 115,
   "metadata": {},
   "outputs": [
    {
     "data": {
      "text/plain": [
       "{'1': ['C'], '2': ['M'], '3': ['P', 'D', 'N', 'Z']}"
      ]
     },
     "execution_count": 115,
     "metadata": {},
     "output_type": "execute_result"
    }
   ],
   "source": [
    "dock = {\n",
    "    \"1\": [\"Z\", \"N\"],\n",
    "    \"2\": [\"M\", \"C\", \"D\"],\n",
    "    \"3\": [\"P\"]\n",
    "}\n",
    "crane(1, \"2\", \"1\")\n",
    "crane(3, \"1\", \"3\")\n",
    "crane(2, \"2\", \"1\")\n",
    "crane(1, \"1\", \"2\")\n",
    "\n",
    "# crane(1, \"2\", \"3\")\n",
    "dock\n"
   ]
  },
  {
   "cell_type": "code",
   "execution_count": 125,
   "metadata": {},
   "outputs": [],
   "source": [
    "def crane(tot, ship_from, ship_to):\n",
    "    res_ary = []\n",
    "    for i in range(tot):\n",
    "        res = dock[ship_from].pop()\n",
    "        res_ary.append(res)\n",
    "        # print(res)\n",
    "    res_ary.reverse()\n",
    "    dock[ship_to].extend(res_ary)\n",
    "    return res_ary"
   ]
  },
  {
   "cell_type": "code",
   "execution_count": 128,
   "metadata": {},
   "outputs": [],
   "source": [
    "for command in lines:\n",
    "    command = re.sub(\"\\n\", \"\", command)\n",
    "    tot = int(command.split(\" \")[1])\n",
    "    ship_from = command.split(\" \")[3]\n",
    "    ship_to = command.split(\" \")[5]\n",
    "    crane(tot, ship_from, ship_to)"
   ]
  },
  {
   "cell_type": "code",
   "execution_count": 129,
   "metadata": {},
   "outputs": [
    {
     "data": {
      "text/plain": [
       "{'1': ['F', 'D', 'M', 'G', 'P'],\n",
       " '2': ['D', 'V', 'Z', 'G'],\n",
       " '3': ['M', 'R', 'R', 'S', 'V', 'B', 'H', 'S'],\n",
       " '4': ['S', 'H', 'Q'],\n",
       " '5': ['D', 'L', 'C', 'N', 'B'],\n",
       " '6': ['D',\n",
       "  'P',\n",
       "  'J',\n",
       "  'W',\n",
       "  'C',\n",
       "  'B',\n",
       "  'S',\n",
       "  'N',\n",
       "  'F',\n",
       "  'L',\n",
       "  'F',\n",
       "  'W',\n",
       "  'R',\n",
       "  'Q',\n",
       "  'F',\n",
       "  'W',\n",
       "  'F'],\n",
       " '7': ['V', 'L'],\n",
       " '8': ['D'],\n",
       " '9': ['W', 'Q', 'B', 'B', 'P', 'M', 'B', 'J', 'R', 'N', 'P']}"
      ]
     },
     "execution_count": 129,
     "metadata": {},
     "output_type": "execute_result"
    }
   ],
   "source": [
    "dock"
   ]
  }
 ],
 "metadata": {
  "kernelspec": {
   "display_name": "Python 3.9.7 ('base')",
   "language": "python",
   "name": "python3"
  },
  "language_info": {
   "codemirror_mode": {
    "name": "ipython",
    "version": 3
   },
   "file_extension": ".py",
   "mimetype": "text/x-python",
   "name": "python",
   "nbconvert_exporter": "python",
   "pygments_lexer": "ipython3",
   "version": "3.9.7"
  },
  "orig_nbformat": 4,
  "vscode": {
   "interpreter": {
    "hash": "28216263bb803f81994e9c9a4ee5747e2f53eef079b5fba9e491e798664161c1"
   }
  }
 },
 "nbformat": 4,
 "nbformat_minor": 2
}
